{
 "cells": [
  {
   "cell_type": "markdown",
   "metadata": {},
   "source": [
    "# Mulitnomial Logistic Regression in PyTorch\n",
    "\n",
    "Your task will be to:\n",
    "\n",
    "* Implement and optimize multinomial logistic regression using Pytorch (with and without Autograd)\n",
    "\n",
    "Goal is to:\n",
    "\n",
    "* Get accustomed with the environment\n",
    "* Learn basics of Pytorch\n",
    "* Brush up on Machine Learning\n",
    "\n",
    "Next week:\n",
    "\n",
    "* Implementing own backprop (using PyTorch forward/backward abstraction)\n",
    "* Using nn module in PyTorch\n",
    "* Implementing a full neural network in PyTorch"
   ]
  },
  {
   "cell_type": "code",
   "execution_count": 1,
   "metadata": {
    "collapsed": false
   },
   "outputs": [
    {
     "name": "stderr",
     "output_type": "stream",
     "text": [
      "Using Theano backend.\n"
     ]
    }
   ],
   "source": [
    "%load_ext autoreload\n",
    "%autoreload 2\n",
    "\n",
    "import numpy as np\n",
    "import tqdm\n",
    "import json\n",
    "\n",
    "import torch\n",
    "import torch.nn.functional as F\n",
    "from torch import nn\n",
    "from torch.autograd import Variable\n",
    "\n",
    "from keras.datasets import fashion_mnist\n",
    "from keras.utils import np_utils\n",
    "\n",
    "%matplotlib inline\n",
    "import matplotlib.pylab as plt\n",
    "\n",
    "import matplotlib as mpl\n",
    "mpl.rcParams['lines.linewidth'] = 2\n",
    "mpl.rcParams['figure.figsize'] = (7, 7)\n",
    "mpl.rcParams['axes.titlesize'] = 12\n",
    "mpl.rcParams['axes.labelsize'] = 12"
   ]
  },
  {
   "cell_type": "code",
   "execution_count": 2,
   "metadata": {
    "collapsed": false
   },
   "outputs": [],
   "source": [
    "# Get FashionMNIST (see 1b_FMNIST.ipynb for data exploration)\n",
    "(x_train, y_train), (x_test, y_test) = fashion_mnist.load_data()\n",
    "\n",
    "# Logistic regression needs 2D data\n",
    "x_train = x_train.reshape(-1, 784)\n",
    "x_test = x_test.reshape(-1, 784)\n",
    "\n",
    "# 0-1 normalization\n",
    "x_train = x_train / 255.\n",
    "x_test = x_test / 255.\n",
    "\n",
    "# For simplicity - implicit bias\n",
    "x_train = np.concatenate([np.ones_like(x_train[:, 0:1]), x_train], axis=1)\n",
    "x_test = np.concatenate([np.ones_like(x_test[:, 0:1]), x_test], axis=1)\n",
    "\n",
    "# Convert to Torch Tensor. Just to avoid boilerplate code later\n",
    "x_train = torch.from_numpy(x_train).type(torch.FloatTensor)\n",
    "x_test = torch.from_numpy(x_test).type(torch.FloatTensor)\n",
    "y_train = torch.from_numpy(y_train).type(torch.LongTensor)\n",
    "y_test = torch.from_numpy(y_test).type(torch.LongTensor)\n",
    "\n",
    "# Use only first 1k examples. Just for notebook to run faster\n",
    "x_train, y_train = x_train[0:1000], y_train[0:1000]\n",
    "x_test, y_test = x_test[0:1000], y_test[0:1000]"
   ]
  },
  {
   "cell_type": "markdown",
   "metadata": {},
   "source": [
    "# Why not Numpy\n",
    "\n",
    "Ref: http://cs231n.stanford.edu/slides/2017/cs231n_2017_lecture8.pdf\n",
    "\n",
    "<img src=\"https://github.com/gmum/nn2018/raw/master/lab/fig/2/GPUvsCPU.png\">"
   ]
  },
  {
   "cell_type": "markdown",
   "metadata": {},
   "source": [
    "# PyTorch mini tutorial\n",
    "\n",
    "Ref: http://pytorch.org/tutorials/beginner/blitz/tensor_tutorial.html#sphx-glr-beginner-blitz-tensor-tutorial-py"
   ]
  },
  {
   "cell_type": "markdown",
   "metadata": {},
   "source": [
    "## Level 1: numpy-like features"
   ]
  },
  {
   "cell_type": "markdown",
   "metadata": {
    "collapsed": false
   },
   "source": [
    "# This is like numpy!\n",
    "a = torch.IntTensor([2, 3, 4])\n",
    "b = torch.IntTensor([3, 4, 5])\n",
    "m = a * b  # element-wise product\n",
    "print(m.numpy())  # convert to the numpy array [ 6 12 20]"
   ]
  },
  {
   "cell_type": "code",
   "execution_count": 3,
   "metadata": {
    "collapsed": false
   },
   "outputs": [
    {
     "name": "stdout",
     "output_type": "stream",
     "text": [
      "\n",
      " 0.2363  0.6124  0.0408\n",
      " 0.0193  0.0747  0.9665\n",
      " 0.3959  0.1364  0.2696\n",
      " 0.4519  0.7188  0.3281\n",
      " 0.2082  0.4813  0.2480\n",
      "[torch.FloatTensor of size 5x3]\n",
      "\n"
     ]
    }
   ],
   "source": [
    "x = torch.rand(5, 3)\n",
    "print(x)"
   ]
  },
  {
   "cell_type": "code",
   "execution_count": 4,
   "metadata": {
    "collapsed": false
   },
   "outputs": [
    {
     "name": "stdout",
     "output_type": "stream",
     "text": [
      "\n",
      " 1.1656  0.8504  1.0193\n",
      " 0.7813  0.2592  1.9063\n",
      " 0.7980  0.3430  1.1790\n",
      " 0.6872  0.9283  0.3537\n",
      " 0.8426  0.5105  0.7863\n",
      "[torch.FloatTensor of size 5x3]\n",
      "\n"
     ]
    }
   ],
   "source": [
    "y = torch.rand(5, 3)\n",
    "print(x + y)"
   ]
  },
  {
   "cell_type": "code",
   "execution_count": 5,
   "metadata": {
    "collapsed": false
   },
   "outputs": [
    {
     "name": "stdout",
     "output_type": "stream",
     "text": [
      "\n",
      " 1.1656  0.8504  1.0193\n",
      " 0.7813  0.2592  1.9063\n",
      " 0.7980  0.3430  1.1790\n",
      " 0.6872  0.9283  0.3537\n",
      " 0.8426  0.5105  0.7863\n",
      "[torch.FloatTensor of size 5x3]\n",
      "\n"
     ]
    }
   ],
   "source": [
    "print(torch.add(x, y))"
   ]
  },
  {
   "cell_type": "code",
   "execution_count": 6,
   "metadata": {
    "collapsed": false
   },
   "outputs": [
    {
     "name": "stdout",
     "output_type": "stream",
     "text": [
      "\n",
      " 0.6124\n",
      " 0.0747\n",
      " 0.1364\n",
      " 0.7188\n",
      " 0.4813\n",
      "[torch.FloatTensor of size 5]\n",
      "\n"
     ]
    }
   ],
   "source": [
    "## Just like numpy! Amazing!\n",
    "print(x[:, 1])"
   ]
  },
  {
   "cell_type": "code",
   "execution_count": 7,
   "metadata": {
    "collapsed": false
   },
   "outputs": [
    {
     "name": "stdout",
     "output_type": "stream",
     "text": [
      "No GPU!\n"
     ]
    }
   ],
   "source": [
    "if torch.cuda.is_available():\n",
    "    x = x.cuda()\n",
    "    y = y.cuda()\n",
    "    x + y\n",
    "else:\n",
    "    print(\"No GPU!\")"
   ]
  },
  {
   "cell_type": "markdown",
   "metadata": {},
   "source": [
    "## Level 2: Autograd"
   ]
  },
  {
   "cell_type": "code",
   "execution_count": 8,
   "metadata": {
    "collapsed": false
   },
   "outputs": [
    {
     "name": "stdout",
     "output_type": "stream",
     "text": [
      "Variable containing:\n",
      " 1  1\n",
      " 1  1\n",
      "[torch.FloatTensor of size 2x2]\n",
      "\n"
     ]
    }
   ],
   "source": [
    "import torch\n",
    "from torch.autograd import Variable\n",
    "x = Variable(torch.ones(2, 2), requires_grad=True)\n",
    "print(x)"
   ]
  },
  {
   "cell_type": "code",
   "execution_count": 9,
   "metadata": {
    "collapsed": false
   },
   "outputs": [
    {
     "name": "stdout",
     "output_type": "stream",
     "text": [
      "Variable containing:\n",
      " 3  3\n",
      " 3  3\n",
      "[torch.FloatTensor of size 2x2]\n",
      "\n"
     ]
    }
   ],
   "source": [
    "y = x + 2\n",
    "print(y)"
   ]
  },
  {
   "cell_type": "code",
   "execution_count": 10,
   "metadata": {
    "collapsed": false
   },
   "outputs": [
    {
     "name": "stdout",
     "output_type": "stream",
     "text": [
      "<torch.autograd.function.AddConstantBackward object at 0x11c1c0718>\n"
     ]
    }
   ],
   "source": [
    "print(y.grad_fn)"
   ]
  },
  {
   "cell_type": "code",
   "execution_count": 11,
   "metadata": {
    "collapsed": false
   },
   "outputs": [
    {
     "name": "stdout",
     "output_type": "stream",
     "text": [
      "(Variable containing:\n",
      " 27  27\n",
      " 27  27\n",
      "[torch.FloatTensor of size 2x2]\n",
      ", Variable containing:\n",
      " 27\n",
      "[torch.FloatTensor of size 1]\n",
      ")\n"
     ]
    }
   ],
   "source": [
    "z = y * y * 3\n",
    "out = z.mean()\n",
    "\n",
    "print(z, out)"
   ]
  },
  {
   "cell_type": "code",
   "execution_count": 12,
   "metadata": {
    "collapsed": false
   },
   "outputs": [
    {
     "name": "stdout",
     "output_type": "stream",
     "text": [
      "Variable containing:\n",
      " 4.5000  4.5000\n",
      " 4.5000  4.5000\n",
      "[torch.FloatTensor of size 2x2]\n",
      "\n"
     ]
    }
   ],
   "source": [
    "out.backward()\n",
    "print(x.grad) # dout/dx :)"
   ]
  },
  {
   "cell_type": "markdown",
   "metadata": {},
   "source": [
    "# Multinomial logistic regression\n",
    "\n",
    "(Using PyTorch)\n",
    "\n",
    "## Useful equations\n",
    "\n",
    "Let $D$ denote input dimension, $K$ denote number of classes. Class probabilities are given by the softmax distribution:\n",
    "\n",
    "<br>\n",
    "<font size=4>\n",
    "$ p(\\textbf{y} = k | \\textbf{x}, \\textbf{w}) = \\frac{\\exp(\\langle\\textbf{w}_k, \\textbf{x}\\rangle)}{\\sum_i^{K} \\exp(\\langle\\textbf{w}_i, \\textbf{x}\\rangle)}$\n",
    "</font>\n",
    "\n",
    ", where $w \\in \\mathbb{R}^{(D,K)}$, $w_k$ denotes $k^{th}$ row of the $w$ matrix. For $K=2$ equivalent to the binomial logistic regression discussed in the previous notebook:\n",
    "\n",
    "<br>\n",
    "<font size=4>\n",
    "$ p(\\textbf{y} | \\textbf{x}, \\textbf{w}) = \\sigma(\\langle\\textbf{w}, \\textbf{x}\\rangle)$\n",
    "</font>\n",
    "\n",
    "Same as in binary case, loss is the cross-entropy loss:\n",
    "\n",
    "<br>\n",
    "<font size=4>\n",
    "$ L(\\textbf{w}) = \\sum_i y_i \\log(p(\\textbf{y_i} | \\textbf{x_i}, \\textbf{w}))$\n",
    "</font>\n"
   ]
  },
  {
   "cell_type": "markdown",
   "metadata": {},
   "source": [
    "## Implement helper functions \n",
    "\n",
    "Hint: very similar to 2a_logistic_regression"
   ]
  },
  {
   "cell_type": "code",
   "execution_count": 86,
   "metadata": {
    "collapsed": false
   },
   "outputs": [],
   "source": [
    "def cross_entropy_loss(y_pred, y):\n",
    "    \"\"\"\n",
    "    Parameters\n",
    "    ----------\n",
    "    y_pred: torch.Variable, shape: (batch_size, K)\n",
    "        Probabiities\n",
    "    y: torch.Variable, shape: (batch_size,)\n",
    "        Correct classes\n",
    "    \n",
    "    Returns\n",
    "    -------\n",
    "    loss: torch.Variable, shape: (1, )\n",
    "        Cross entropy loss\n",
    "    \"\"\"\n",
    "    # Hint: use y as indexes to retrieve appropriate columns of y_pred\n",
    "    ??\n",
    "\n",
    "def softmax(h):\n",
    "    \"\"\"\n",
    "    Parameters\n",
    "    ----------\n",
    "    h: torch.Variable, shape: (batch_size, K)\n",
    "        Logits\n",
    "    \n",
    "    Returns\n",
    "    -------\n",
    "    y_pred: torch.Variable, shape: (batch_size, K)\n",
    "        Softmax on h\n",
    "    \"\"\"\n",
    "    ??\n",
    "\n",
    "def forward(x, w):\n",
    "    return softmax(x.mm(w))\n",
    "\n",
    "def evaluate(w):\n",
    "    x = Variable(x_test)\n",
    "    y_test_pred = forward(x, w).data.numpy()\n",
    "    return np.mean(y_test_pred.argmax(axis=1) == y_test.numpy())"
   ]
  },
  {
   "cell_type": "code",
   "execution_count": 13,
   "metadata": {
    "collapsed": false
   },
   "outputs": [
    {
     "ename": "NameError",
     "evalue": "name 'softmax' is not defined",
     "output_type": "error",
     "traceback": [
      "\u001b[0;31m---------------------------------------------------------------------------\u001b[0m",
      "\u001b[0;31mNameError\u001b[0m                                 Traceback (most recent call last)",
      "\u001b[0;32m<ipython-input-13-b5fa86e7a1c0>\u001b[0m in \u001b[0;36m<module>\u001b[0;34m()\u001b[0m\n\u001b[1;32m      6\u001b[0m \u001b[0my\u001b[0m \u001b[0;34m=\u001b[0m \u001b[0mVariable\u001b[0m\u001b[0;34m(\u001b[0m\u001b[0my_train\u001b[0m\u001b[0;34m[\u001b[0m\u001b[0;36m0\u001b[0m\u001b[0;34m:\u001b[0m\u001b[0;36m100\u001b[0m\u001b[0;34m]\u001b[0m\u001b[0;34m,\u001b[0m \u001b[0mrequires_grad\u001b[0m\u001b[0;34m=\u001b[0m\u001b[0mFalse\u001b[0m\u001b[0;34m)\u001b[0m \u001b[0;31m# No grad wrt to data\u001b[0m\u001b[0;34m\u001b[0m\u001b[0m\n\u001b[1;32m      7\u001b[0m \u001b[0mw\u001b[0m \u001b[0;34m=\u001b[0m \u001b[0mVariable\u001b[0m\u001b[0;34m(\u001b[0m\u001b[0mtorch\u001b[0m\u001b[0;34m.\u001b[0m\u001b[0mrandn\u001b[0m\u001b[0;34m(\u001b[0m\u001b[0mD\u001b[0m\u001b[0;34m,\u001b[0m \u001b[0mK\u001b[0m\u001b[0;34m)\u001b[0m\u001b[0;34m,\u001b[0m \u001b[0mrequires_grad\u001b[0m\u001b[0;34m=\u001b[0m\u001b[0mTrue\u001b[0m\u001b[0;34m)\u001b[0m \u001b[0;31m# Grad wrt to weights!\u001b[0m\u001b[0;34m\u001b[0m\u001b[0m\n\u001b[0;32m----> 8\u001b[0;31m \u001b[0my_pred\u001b[0m \u001b[0;34m=\u001b[0m \u001b[0msoftmax\u001b[0m\u001b[0;34m(\u001b[0m\u001b[0mx\u001b[0m\u001b[0;34m.\u001b[0m\u001b[0mmm\u001b[0m\u001b[0;34m(\u001b[0m\u001b[0mw\u001b[0m\u001b[0;34m)\u001b[0m\u001b[0;34m)\u001b[0m\u001b[0;34m\u001b[0m\u001b[0m\n\u001b[0m\u001b[1;32m      9\u001b[0m \u001b[0;34m\u001b[0m\u001b[0m\n\u001b[1;32m     10\u001b[0m \u001b[0myours\u001b[0m \u001b[0;34m=\u001b[0m \u001b[0mcross_entropy_loss\u001b[0m\u001b[0;34m(\u001b[0m\u001b[0my_pred\u001b[0m\u001b[0;34m,\u001b[0m \u001b[0my\u001b[0m\u001b[0;34m)\u001b[0m\u001b[0;34m.\u001b[0m\u001b[0mdata\u001b[0m\u001b[0;34m[\u001b[0m\u001b[0;36m0\u001b[0m\u001b[0;34m]\u001b[0m\u001b[0;34m\u001b[0m\u001b[0m\n",
      "\u001b[0;31mNameError\u001b[0m: name 'softmax' is not defined"
     ]
    }
   ],
   "source": [
    "# Asserts to help you implement the functions.\n",
    "D = 785\n",
    "K = 10\n",
    "\n",
    "x = Variable(x_train[0:100], requires_grad=False) # No grad wrt to data\n",
    "y = Variable(y_train[0:100], requires_grad=False) # No grad wrt to data \n",
    "w = Variable(torch.randn(D, K), requires_grad=True) # Grad wrt to weights!\n",
    "y_pred = softmax(x.mm(w))\n",
    "\n",
    "yours = cross_entropy_loss(y_pred, y).data[0]\n",
    "correct = nn.CrossEntropyLoss()(x.mm(w), y).data[0]\n",
    "assert np.allclose(yours, correct, atol=0.01)\n",
    "\n",
    "yours = softmax(x.mm(w)).data.numpy()\n",
    "correct = F.softmax(x.mm(w)).data.numpy()\n",
    "assert np.allclose(yours, correct, atol=0.01)"
   ]
  },
  {
   "cell_type": "code",
   "execution_count": 57,
   "metadata": {
    "collapsed": true
   },
   "outputs": [],
   "source": [
    "def train_logistic_regression(lr=0.1, n_epochs=100, batch_size=100):\n",
    "    \"\"\"\n",
    "    Parameters\n",
    "    ----------\n",
    "    lr: float\n",
    "        Learning rate used in SGD\n",
    "    n_epochs: int\n",
    "        Number of epochs to train\n",
    "    use_autograd: bool\n",
    "        If true will use PyTorch autograd\n",
    "    \n",
    "    Returns\n",
    "    -------\n",
    "    w: np.array, shape: (D_in, D_out)\n",
    "        Found parameters\n",
    "    \"\"\"\n",
    "    \n",
    "    n_epochs = 100\n",
    "    batch_size = 100\n",
    "    learning_rate = 0.1\n",
    "    use_autograd = True\n",
    "\n",
    "    # 784 + bias -> 10 model\n",
    "    D, K = 784 + 1, 10 \n",
    "\n",
    "    # Define all Variables used in the computation\n",
    "    dtype = torch.FloatTensor\n",
    "    x = Variable(torch.randn(batch_size, D).type(dtype), requires_grad=False) # No grad wrt to data\n",
    "    y = Variable(torch.randn(batch_size, K).type(dtype), requires_grad=False) # No grad wrt to data\n",
    "    w = Variable(torch.randn(D, K).type(dtype), requires_grad=True) # Grad wrt to weights!\n",
    "\n",
    "    loss_history = []\n",
    "    for epoch in tqdm.tqdm(range(n_epochs), total=n_epochs):    \n",
    "        for batch in range(len(x_train) // batch_size):\n",
    "            # Sample data\n",
    "            x_batch = x_train[batch*batch_size:(batch+1)*batch_size]\n",
    "            y_batch = y_train[batch*batch_size:(batch+1)*batch_size]\n",
    "\n",
    "            x_batch = Variable(x_batch.type(torch.FloatTensor), requires_grad=False)\n",
    "            y_batch = Variable(y_batch.type(torch.LongTensor), requires_grad=False)\n",
    "\n",
    "            y_pred = ?? # Hint: use forward\n",
    "            loss = ?? # Hint: cross_entropy_loss\n",
    "\n",
    "            if batch == 0:\n",
    "                loss_history.append(loss.data.numpy())\n",
    "\n",
    "            # Compute grad_w\n",
    "            grad_w = ?? # Hint: use w.grad and backward. Google if needed.\n",
    "\n",
    "            # Update weights using gradient descent\n",
    "            w.data -= # Hint: use learning rate and computed gradient\n",
    "\n",
    "            ?? # You need to zero gradients, before next batch.  Google if needed.\n",
    "\n",
    "    plt.plot(loss_history)\n",
    "    plt.xlabel(\"Epoch\")\n",
    "    plt.ylabel(\"Loss\")\n",
    "    \n",
    "    return w"
   ]
  },
  {
   "cell_type": "markdown",
   "metadata": {},
   "source": [
    "# Tests\n",
    "\n",
    "Each notebook will terminate with Tests section. This will automatically grade and assign points."
   ]
  },
  {
   "cell_type": "code",
   "execution_count": 84,
   "metadata": {
    "collapsed": false
   },
   "outputs": [
    {
     "name": "stderr",
     "output_type": "stream",
     "text": [
      "                                                "
     ]
    },
    {
     "name": "stdout",
     "output_type": "stream",
     "text": [
      "Evaluation results:\n",
      "===========\n",
      "{'test1': 1}\n"
     ]
    },
    {
     "name": "stderr",
     "output_type": "stream",
     "text": [
      "\r"
     ]
    },
    {
     "data": {
      "image/png": "[encoded data removed]",
      "text/plain": [
       "<matplotlib.figure.Figure at 0x11afc6e90>"
      ]
     },
     "metadata": {},
     "output_type": "display_data"
    }
   ],
   "source": [
    "result = {}\n",
    "result['test1'] = int(evaluate(train_logistic_regression(n_epochs=100, lr=0.1)) > 0.6)\n",
    "print(\"Evaluation results:\\n===========\")\n",
    "print(result)\n",
    "json.dump(result, open(\"2b_pytorch.json\", \"w\"))"
   ]
  }
 ],
 "metadata": {
  "kernelspec": {
   "display_name": "Python 2",
   "language": "python",
   "name": "python2"
  },
  "language_info": {
   "codemirror_mode": {
    "name": "ipython",
    "version": 2
   },
   "file_extension": ".py",
   "mimetype": "text/x-python",
   "name": "python",
   "nbconvert_exporter": "python",
   "pygments_lexer": "ipython2",
   "version": "2.7.13"
  },
  "toc": {
   "toc_cell": false,
   "toc_number_sections": true,
   "toc_threshold": 6,
   "toc_window_display": false
  }
 },
 "nbformat": 4,
 "nbformat_minor": 0
}
