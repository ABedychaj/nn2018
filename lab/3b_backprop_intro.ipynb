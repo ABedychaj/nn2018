{
 "cells": [
  {
   "cell_type": "markdown",
   "metadata": {},
   "source": [
    "# Backpropagation - introduction\n",
    "\n",
    "Your task will be to:\n",
    "\n",
    "* Learn MLP using finite difference\n",
    "\n",
    "Goal is to:\n",
    "\n",
    "* Explain that backprop just is a way to compute the average gradient\n",
    "* Explain how backprop works - theoretically\n",
    "* Explain how backprop is implemented in PyTorch\n",
    "\n",
    "Resources:\n",
    "\n",
    "* https://www.youtube.com/watch?v=ma2KXWblllc"
   ]
  },
  {
   "cell_type": "markdown",
   "metadata": {},
   "source": [
    "# We need $\\frac{\\partial L (w) }{\\partial w} = \\frac{1}{K} \\sum_{i=1}^{K} \\frac{\\partial L (x_i, w) }{\\partial w}$\n",
    "\n",
    "<img width=300 src=\"https://github.com/gmum/nn2018/raw/master/lab/fig/3/sgd.png\">"
   ]
  }
 ],
 "metadata": {
  "kernelspec": {
   "display_name": "Python 2",
   "language": "python",
   "name": "python2"
  },
  "language_info": {
   "codemirror_mode": {
    "name": "ipython",
    "version": 2
   },
   "file_extension": ".py",
   "mimetype": "text/x-python",
   "name": "python",
   "nbconvert_exporter": "python",
   "pygments_lexer": "ipython2",
   "version": "2.7.13"
  },
  "toc": {
   "toc_cell": false,
   "toc_number_sections": true,
   "toc_threshold": 6,
   "toc_window_display": false
  }
 },
 "nbformat": 4,
 "nbformat_minor": 0
}
