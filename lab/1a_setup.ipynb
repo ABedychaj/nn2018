{
 "cells": [
  {
   "cell_type": "markdown",
   "metadata": {},
   "source": [
    "Na tych zajęciach używamy Pythona 3.6"
   ]
  },
  {
   "cell_type": "markdown",
   "metadata": {},
   "source": [
    "### Krok 1. - pobranie repozytorium\n",
    "\n",
    "https://github.com/gmum/ml2018"
   ]
  },
  {
   "cell_type": "raw",
   "metadata": {},
   "source": [
    "git clone https://github.com/gmum/ml2018.git"
   ]
  },
  {
   "cell_type": "markdown",
   "metadata": {},
   "source": [
    "### Krok 2. - instalacja minicondy (zalecane)\n",
    "\n",
    "https://conda.io/miniconda.html\n",
    "\n",
    "miniconda zainstaluje się do wybranego katalogu i opcjonalnie dopisze odpowiednią linijkę w .bash_profile"
   ]
  },
  {
   "cell_type": "raw",
   "metadata": {},
   "source": [
    "wget https://repo.continuum.io/miniconda/Miniconda3-latest-Linux-x86_64.sh\n",
    "chmod +x Miniconda3-latest-Linux-x86_64.sh\n",
    "./Miniconda3-latest-Linux-x86_64.sh\n",
    "rm Miniconda3-latest-Linux-x86_64.sh"
   ]
  },
  {
   "cell_type": "markdown",
   "metadata": {},
   "source": [
    "### Krok 3. - utworzenie środowiska (zalecane, ale nie konieczne)\n",
    "\n",
    "https://conda.io/docs/user-guide/tasks/manage-environments.html"
   ]
  },
  {
   "cell_type": "raw",
   "metadata": {},
   "source": [
    "conda create --name ml2018\n",
    "source activate ml2018\n",
    "# source deactivate ml2018"
   ]
  },
  {
   "cell_type": "markdown",
   "metadata": {},
   "source": [
    "### Krok 4. - instalacja pakietów\n",
    "\n",
    "https://conda.io/docs/user-guide/tasks/manage-pkgs.html"
   ]
  },
  {
   "cell_type": "raw",
   "metadata": {},
   "source": [
    "conda install jupyter # notebooki\n",
    "conda install numpy # operacje matematyczno-macierzowe\n",
    "conda install scipy # więcej matematyki\n",
    "conda install keras # proste tworzenie sieci neuronowych\n",
    "conda install scikit-learn # dużo gotowych modeli ML\n",
    "conda install matplotlib # wykresy\n",
    "conda install pandas # ładne tabelki\n",
    "conda install tqdm # ładny progress bar\n",
    "conda install -c astropy astroml # dane astronomiczne"
   ]
  },
  {
   "cell_type": "markdown",
   "metadata": {},
   "source": [
    "### Krok 5. - testujemy, czy wszystko działa"
   ]
  },
  {
   "cell_type": "raw",
   "metadata": {},
   "source": [
    "cd ml2018\n",
    "jupyter notebook"
   ]
  },
  {
   "cell_type": "code",
   "execution_count": 1,
   "metadata": {
    "collapsed": true
   },
   "outputs": [],
   "source": [
    "import matplotlib\n",
    "import numpy as np\n",
    "import pandas as pd\n",
    "import scipy\n",
    "import keras\n",
    "import sklearn\n",
    "import tqdm"
   ]
  },
  {
   "cell_type": "markdown",
   "metadata": {},
   "source": [
    "## Dla osób bez laptopów: Colab\n",
    "\n",
    "Notebooki będą też dostępne do odpalenia w Colab. Link: "
   ]
  }
 ],
 "metadata": {
  "kernelspec": {
   "display_name": "Python 2",
   "language": "python",
   "name": "python2"
  },
  "language_info": {
   "codemirror_mode": {
    "name": "ipython",
    "version": 2
   },
   "file_extension": ".py",
   "mimetype": "text/x-python",
   "name": "python",
   "nbconvert_exporter": "python",
   "pygments_lexer": "ipython2",
   "version": "2.7.13"
  },
  "toc": {
   "toc_cell": false,
   "toc_number_sections": true,
   "toc_threshold": 6,
   "toc_window_display": false
  }
 },
 "nbformat": 4,
 "nbformat_minor": 2
}
